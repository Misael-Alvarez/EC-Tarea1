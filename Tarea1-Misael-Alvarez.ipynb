{
 "cells": [
  {
   "cell_type": "markdown",
   "id": "84c75129",
   "metadata": {},
   "source": [
    "**Misael Vicente Alvarez Camarillo**\n",
    "\n",
    "*2193035962*"
   ]
  },
  {
   "cell_type": "code",
   "execution_count": 1,
   "id": "e557b43f",
   "metadata": {},
   "outputs": [],
   "source": [
    "# Importamos las librerias necesarias\n",
    "import pandas as pd\n",
    "import numpy as np\n",
    "import matplotlib.pyplot as plt # Gráficas\n",
    "plt.style.use('ggplot')"
   ]
  },
  {
   "cell_type": "markdown",
   "id": "4466d0a9",
   "metadata": {},
   "source": [
    "Recordemos que el objetivo es minimzar la función costo\n",
    "\n",
    "$$J(\\theta) = \\dfrac{1}{2m}\\sum_{i=1}^{m}(h_{\\theta}x^{(i)}-y^{(i)})^{2}$$"
   ]
  },
  {
   "cell_type": "markdown",
   "id": "59fca0a6",
   "metadata": {},
   "source": [
    "Donde tenemos como hipotesis que:\n",
    "\n",
    "$$h_{\\theta}(x)=\\theta^{T}X=\\theta_{0}+\\theta_{1}x$$"
   ]
  },
  {
   "cell_type": "markdown",
   "id": "f1dc70d9",
   "metadata": {},
   "source": [
    "Una forma de minimzar la función costo es usar el descenso del gradiente, que esta dado por:\n",
    "\n",
    "$$\\theta_{j} := \\theta_{j} - \\alpha \\dfrac{1}{m}\\sum_{i=1}^{m}(h_{\\theta}x^{(i)}-y^{(i)})x_{j}$$"
   ]
  },
  {
   "cell_type": "markdown",
   "id": "d661fb23",
   "metadata": {},
   "source": [
    "## Regresión Lineal"
   ]
  },
  {
   "cell_type": "code",
   "execution_count": 2,
   "id": "6a91f7bd",
   "metadata": {},
   "outputs": [
    {
     "data": {
      "text/html": [
       "<div>\n",
       "<style scoped>\n",
       "    .dataframe tbody tr th:only-of-type {\n",
       "        vertical-align: middle;\n",
       "    }\n",
       "\n",
       "    .dataframe tbody tr th {\n",
       "        vertical-align: top;\n",
       "    }\n",
       "\n",
       "    .dataframe thead th {\n",
       "        text-align: right;\n",
       "    }\n",
       "</style>\n",
       "<table border=\"1\" class=\"dataframe\">\n",
       "  <thead>\n",
       "    <tr style=\"text-align: right;\">\n",
       "      <th></th>\n",
       "      <th>X</th>\n",
       "      <th>Y</th>\n",
       "    </tr>\n",
       "  </thead>\n",
       "  <tbody>\n",
       "    <tr>\n",
       "      <th>0</th>\n",
       "      <td>6.1101</td>\n",
       "      <td>17.59200</td>\n",
       "    </tr>\n",
       "    <tr>\n",
       "      <th>1</th>\n",
       "      <td>5.5277</td>\n",
       "      <td>9.13020</td>\n",
       "    </tr>\n",
       "    <tr>\n",
       "      <th>2</th>\n",
       "      <td>8.5186</td>\n",
       "      <td>13.66200</td>\n",
       "    </tr>\n",
       "    <tr>\n",
       "      <th>3</th>\n",
       "      <td>7.0032</td>\n",
       "      <td>11.85400</td>\n",
       "    </tr>\n",
       "    <tr>\n",
       "      <th>4</th>\n",
       "      <td>5.8598</td>\n",
       "      <td>6.82330</td>\n",
       "    </tr>\n",
       "    <tr>\n",
       "      <th>...</th>\n",
       "      <td>...</td>\n",
       "      <td>...</td>\n",
       "    </tr>\n",
       "    <tr>\n",
       "      <th>92</th>\n",
       "      <td>5.8707</td>\n",
       "      <td>7.20290</td>\n",
       "    </tr>\n",
       "    <tr>\n",
       "      <th>93</th>\n",
       "      <td>5.3054</td>\n",
       "      <td>1.98690</td>\n",
       "    </tr>\n",
       "    <tr>\n",
       "      <th>94</th>\n",
       "      <td>8.2934</td>\n",
       "      <td>0.14454</td>\n",
       "    </tr>\n",
       "    <tr>\n",
       "      <th>95</th>\n",
       "      <td>13.3940</td>\n",
       "      <td>9.05510</td>\n",
       "    </tr>\n",
       "    <tr>\n",
       "      <th>96</th>\n",
       "      <td>5.4369</td>\n",
       "      <td>0.61705</td>\n",
       "    </tr>\n",
       "  </tbody>\n",
       "</table>\n",
       "<p>97 rows × 2 columns</p>\n",
       "</div>"
      ],
      "text/plain": [
       "          X         Y\n",
       "0    6.1101  17.59200\n",
       "1    5.5277   9.13020\n",
       "2    8.5186  13.66200\n",
       "3    7.0032  11.85400\n",
       "4    5.8598   6.82330\n",
       "..      ...       ...\n",
       "92   5.8707   7.20290\n",
       "93   5.3054   1.98690\n",
       "94   8.2934   0.14454\n",
       "95  13.3940   9.05510\n",
       "96   5.4369   0.61705\n",
       "\n",
       "[97 rows x 2 columns]"
      ]
     },
     "execution_count": 2,
     "metadata": {},
     "output_type": "execute_result"
    }
   ],
   "source": [
    "# Cargamos los datos en un DataFrame, Los importdo desde Github para mayor movilidad / otra forma es localmente\n",
    "df = pd.read_csv(\"https://raw.githubusercontent.com/Misael-Alvarez/EC-Tarea1/main/ex1data1.csv\")\n",
    "# Definimos nuestros datos del dataFrame\n",
    "X = df[\"X\"]\n",
    "Y = df[\"Y\"]\n",
    "df"
   ]
  },
  {
   "cell_type": "code",
   "execution_count": 3,
   "id": "b49f1db4",
   "metadata": {},
   "outputs": [],
   "source": [
    "# definimos nuestra funcion PlotData\n",
    "def plotData(x,y):\n",
    "    plt.scatter(x,y,marker = \"x\", color=\"red\", s = 20, alpha = 0.8)\n",
    "    plt.title(\"Datos\")\n",
    "    plt.xlabel(\"Population of City in 10,000s\")\n",
    "    plt.ylabel(\"Profit in $10,000s\")\n",
    "    plt.show()\n",
    "    return "
   ]
  },
  {
   "cell_type": "code",
   "execution_count": 4,
   "id": "756dc4a0",
   "metadata": {},
   "outputs": [
    {
     "data": {
      "image/png": "[encoded data removed]",
      "text/plain": [
       "<Figure size 432x288 with 1 Axes>"
      ]
     },
     "metadata": {},
     "output_type": "display_data"
    }
   ],
   "source": [
    "plotData(X,Y)"
   ]
  },
  {
   "cell_type": "code",
   "execution_count": 5,
   "id": "cdd7ba44",
   "metadata": {},
   "outputs": [],
   "source": [
    "def h(a,b,x):\n",
    "    return a*x+b"
   ]
  },
  {
   "cell_type": "code",
   "execution_count": 6,
   "id": "13e987a9",
   "metadata": {},
   "outputs": [],
   "source": [
    "def gradiente_descendente(a_, b_, alpha, x, y):\n",
    "    m = x.shape[0] # Numero de datos\n",
    "\n",
    "    # Gradientes: derivadas de la función de error con respecto a los parametros a y b\n",
    "    dw = -(2/m)*np.sum(x*(y-(h(a_,b_,X))))\n",
    "    db = -(2/m)*np.sum(y-h(a_,b_,X))\n",
    "\n",
    "    # Actualizar los pesos usando la fórmula del gradiente descendente\n",
    "    a = a_ - alpha*dw\n",
    "    b = b_ - alpha*db\n",
    "\n",
    "    return a, b"
   ]
  },
  {
   "cell_type": "code",
   "execution_count": 7,
   "id": "70965d6f",
   "metadata": {},
   "outputs": [],
   "source": [
    "def costo(y, GD=gradiente_descendente):\n",
    "    m = Y.shape[0]\n",
    "    n = 1500 # iteraciones para entrenar el modelo\n",
    "    J = np.zeros((n,1)) \n",
    "    # Para inicializar nuestro modelo elegimos al azar los valores para a y b\n",
    "    np.random.seed(2)\n",
    "    a = np.random.randn(1)[0]\n",
    "    b = np.random.randn(1)[0]\n",
    "    # Entrenamos nuestra regresion\n",
    "    for i in range(n):\n",
    "        # Llamamos a nuestro gradiente\n",
    "        [a, b] = GD(a,b,0.01,X,Y)\n",
    "        # Obtenemos las thetas correspondientes\n",
    "        J[i] = (np.sum((Y-h(a,b,X))**2))/m \n",
    "    res = [J,h(a,b,X)]\n",
    "    return res"
   ]
  },
  {
   "cell_type": "code",
   "execution_count": 8,
   "id": "df84ba64",
   "metadata": {},
   "outputs": [
    {
     "name": "stdout",
     "output_type": "stream",
     "text": [
      "[[62.44977575]\n",
      " [32.81121495]\n",
      " [20.4891591 ]\n",
      " ...\n",
      " [ 8.95399984]\n",
      " [ 8.95399943]\n",
      " [ 8.95399902]]\n"
     ]
    }
   ],
   "source": [
    "# El valor de nuestro vector J\n",
    "print(costo(Y)[0])"
   ]
  },
  {
   "cell_type": "code",
   "execution_count": 9,
   "id": "87b7f93d",
   "metadata": {},
   "outputs": [
    {
     "data": {
      "image/png": "[encoded data removed]",
      "text/plain": [
       "<Figure size 432x288 with 1 Axes>"
      ]
     },
     "metadata": {},
     "output_type": "display_data"
    }
   ],
   "source": [
    "# Graficamos nuestra funcion de costo\n",
    "def plotCosto(x,y):\n",
    "    plt.plot(x,y, color=\"red\")\n",
    "    plt.title(\"Función costo\")\n",
    "    plt.xlabel(\"x\")\n",
    "    plt.ylabel(\"y\")\n",
    "    return plt.show()\n",
    "n = 1500\n",
    "plotCosto(range(n),costo(Y)[0])"
   ]
  },
  {
   "cell_type": "code",
   "execution_count": 10,
   "id": "396be6c9",
   "metadata": {},
   "outputs": [
    {
     "data": {
      "image/png": "[encoded data removed]",
      "text/plain": [
       "<Figure size 432x288 with 1 Axes>"
      ]
     },
     "metadata": {},
     "output_type": "display_data"
    }
   ],
   "source": [
    "# Grafiquemos nuestra regresión Lineal\n",
    "def regresionLineal(x,y):\n",
    "    plt.scatter(x,y,marker = \"x\", color=\"red\", s = 20, alpha = 0.8)\n",
    "    plt.plot(x,costo(y)[1], color=\"blue\")\n",
    "    plt.title(\"Regresión Lineal\")\n",
    "    plt.xlabel(\"Population of City in 10,000s\")\n",
    "    plt.ylabel(\"Profit in $10,000s\")\n",
    "    plt.show()\n",
    "regresionLineal(X,Y)"
   ]
  },
  {
   "cell_type": "markdown",
   "id": "0d6ea479",
   "metadata": {},
   "source": [
    "## 2.- Regresión Lineal Múltiple"
   ]
  },
  {
   "cell_type": "code",
   "execution_count": 11,
   "id": "c3705513",
   "metadata": {},
   "outputs": [
    {
     "data": {
      "text/html": [
       "<div>\n",
       "<style scoped>\n",
       "    .dataframe tbody tr th:only-of-type {\n",
       "        vertical-align: middle;\n",
       "    }\n",
       "\n",
       "    .dataframe tbody tr th {\n",
       "        vertical-align: top;\n",
       "    }\n",
       "\n",
       "    .dataframe thead th {\n",
       "        text-align: right;\n",
       "    }\n",
       "</style>\n",
       "<table border=\"1\" class=\"dataframe\">\n",
       "  <thead>\n",
       "    <tr style=\"text-align: right;\">\n",
       "      <th></th>\n",
       "      <th>Area</th>\n",
       "      <th>Recamaras</th>\n",
       "      <th>Precio</th>\n",
       "    </tr>\n",
       "  </thead>\n",
       "  <tbody>\n",
       "    <tr>\n",
       "      <th>0</th>\n",
       "      <td>2104</td>\n",
       "      <td>3</td>\n",
       "      <td>399900</td>\n",
       "    </tr>\n",
       "    <tr>\n",
       "      <th>1</th>\n",
       "      <td>1600</td>\n",
       "      <td>3</td>\n",
       "      <td>329900</td>\n",
       "    </tr>\n",
       "    <tr>\n",
       "      <th>2</th>\n",
       "      <td>2400</td>\n",
       "      <td>3</td>\n",
       "      <td>369000</td>\n",
       "    </tr>\n",
       "    <tr>\n",
       "      <th>3</th>\n",
       "      <td>1416</td>\n",
       "      <td>2</td>\n",
       "      <td>232000</td>\n",
       "    </tr>\n",
       "    <tr>\n",
       "      <th>4</th>\n",
       "      <td>3000</td>\n",
       "      <td>4</td>\n",
       "      <td>539900</td>\n",
       "    </tr>\n",
       "    <tr>\n",
       "      <th>5</th>\n",
       "      <td>1985</td>\n",
       "      <td>4</td>\n",
       "      <td>299900</td>\n",
       "    </tr>\n",
       "    <tr>\n",
       "      <th>6</th>\n",
       "      <td>1534</td>\n",
       "      <td>3</td>\n",
       "      <td>314900</td>\n",
       "    </tr>\n",
       "    <tr>\n",
       "      <th>7</th>\n",
       "      <td>1427</td>\n",
       "      <td>3</td>\n",
       "      <td>198999</td>\n",
       "    </tr>\n",
       "    <tr>\n",
       "      <th>8</th>\n",
       "      <td>1380</td>\n",
       "      <td>3</td>\n",
       "      <td>212000</td>\n",
       "    </tr>\n",
       "    <tr>\n",
       "      <th>9</th>\n",
       "      <td>1494</td>\n",
       "      <td>3</td>\n",
       "      <td>242500</td>\n",
       "    </tr>\n",
       "    <tr>\n",
       "      <th>10</th>\n",
       "      <td>1940</td>\n",
       "      <td>4</td>\n",
       "      <td>239999</td>\n",
       "    </tr>\n",
       "    <tr>\n",
       "      <th>11</th>\n",
       "      <td>2000</td>\n",
       "      <td>3</td>\n",
       "      <td>347000</td>\n",
       "    </tr>\n",
       "    <tr>\n",
       "      <th>12</th>\n",
       "      <td>1890</td>\n",
       "      <td>3</td>\n",
       "      <td>329999</td>\n",
       "    </tr>\n",
       "    <tr>\n",
       "      <th>13</th>\n",
       "      <td>4478</td>\n",
       "      <td>5</td>\n",
       "      <td>699900</td>\n",
       "    </tr>\n",
       "    <tr>\n",
       "      <th>14</th>\n",
       "      <td>1268</td>\n",
       "      <td>3</td>\n",
       "      <td>259900</td>\n",
       "    </tr>\n",
       "    <tr>\n",
       "      <th>15</th>\n",
       "      <td>2300</td>\n",
       "      <td>4</td>\n",
       "      <td>449900</td>\n",
       "    </tr>\n",
       "    <tr>\n",
       "      <th>16</th>\n",
       "      <td>1320</td>\n",
       "      <td>2</td>\n",
       "      <td>299900</td>\n",
       "    </tr>\n",
       "    <tr>\n",
       "      <th>17</th>\n",
       "      <td>1236</td>\n",
       "      <td>3</td>\n",
       "      <td>199900</td>\n",
       "    </tr>\n",
       "    <tr>\n",
       "      <th>18</th>\n",
       "      <td>2609</td>\n",
       "      <td>4</td>\n",
       "      <td>499998</td>\n",
       "    </tr>\n",
       "    <tr>\n",
       "      <th>19</th>\n",
       "      <td>3031</td>\n",
       "      <td>4</td>\n",
       "      <td>599000</td>\n",
       "    </tr>\n",
       "    <tr>\n",
       "      <th>20</th>\n",
       "      <td>1767</td>\n",
       "      <td>3</td>\n",
       "      <td>252900</td>\n",
       "    </tr>\n",
       "    <tr>\n",
       "      <th>21</th>\n",
       "      <td>1888</td>\n",
       "      <td>2</td>\n",
       "      <td>255000</td>\n",
       "    </tr>\n",
       "    <tr>\n",
       "      <th>22</th>\n",
       "      <td>1604</td>\n",
       "      <td>3</td>\n",
       "      <td>242900</td>\n",
       "    </tr>\n",
       "    <tr>\n",
       "      <th>23</th>\n",
       "      <td>1962</td>\n",
       "      <td>4</td>\n",
       "      <td>259900</td>\n",
       "    </tr>\n",
       "    <tr>\n",
       "      <th>24</th>\n",
       "      <td>3890</td>\n",
       "      <td>3</td>\n",
       "      <td>573900</td>\n",
       "    </tr>\n",
       "    <tr>\n",
       "      <th>25</th>\n",
       "      <td>1100</td>\n",
       "      <td>3</td>\n",
       "      <td>249900</td>\n",
       "    </tr>\n",
       "    <tr>\n",
       "      <th>26</th>\n",
       "      <td>1458</td>\n",
       "      <td>3</td>\n",
       "      <td>464500</td>\n",
       "    </tr>\n",
       "    <tr>\n",
       "      <th>27</th>\n",
       "      <td>2526</td>\n",
       "      <td>3</td>\n",
       "      <td>469000</td>\n",
       "    </tr>\n",
       "    <tr>\n",
       "      <th>28</th>\n",
       "      <td>2200</td>\n",
       "      <td>3</td>\n",
       "      <td>475000</td>\n",
       "    </tr>\n",
       "    <tr>\n",
       "      <th>29</th>\n",
       "      <td>2637</td>\n",
       "      <td>3</td>\n",
       "      <td>299900</td>\n",
       "    </tr>\n",
       "    <tr>\n",
       "      <th>30</th>\n",
       "      <td>1839</td>\n",
       "      <td>2</td>\n",
       "      <td>349900</td>\n",
       "    </tr>\n",
       "    <tr>\n",
       "      <th>31</th>\n",
       "      <td>1000</td>\n",
       "      <td>1</td>\n",
       "      <td>169900</td>\n",
       "    </tr>\n",
       "    <tr>\n",
       "      <th>32</th>\n",
       "      <td>2040</td>\n",
       "      <td>4</td>\n",
       "      <td>314900</td>\n",
       "    </tr>\n",
       "    <tr>\n",
       "      <th>33</th>\n",
       "      <td>3137</td>\n",
       "      <td>3</td>\n",
       "      <td>579900</td>\n",
       "    </tr>\n",
       "    <tr>\n",
       "      <th>34</th>\n",
       "      <td>1811</td>\n",
       "      <td>4</td>\n",
       "      <td>285900</td>\n",
       "    </tr>\n",
       "    <tr>\n",
       "      <th>35</th>\n",
       "      <td>1437</td>\n",
       "      <td>3</td>\n",
       "      <td>249900</td>\n",
       "    </tr>\n",
       "    <tr>\n",
       "      <th>36</th>\n",
       "      <td>1239</td>\n",
       "      <td>3</td>\n",
       "      <td>229900</td>\n",
       "    </tr>\n",
       "    <tr>\n",
       "      <th>37</th>\n",
       "      <td>2132</td>\n",
       "      <td>4</td>\n",
       "      <td>345000</td>\n",
       "    </tr>\n",
       "    <tr>\n",
       "      <th>38</th>\n",
       "      <td>4215</td>\n",
       "      <td>4</td>\n",
       "      <td>549000</td>\n",
       "    </tr>\n",
       "    <tr>\n",
       "      <th>39</th>\n",
       "      <td>2162</td>\n",
       "      <td>4</td>\n",
       "      <td>287000</td>\n",
       "    </tr>\n",
       "    <tr>\n",
       "      <th>40</th>\n",
       "      <td>1664</td>\n",
       "      <td>2</td>\n",
       "      <td>368500</td>\n",
       "    </tr>\n",
       "    <tr>\n",
       "      <th>41</th>\n",
       "      <td>2238</td>\n",
       "      <td>3</td>\n",
       "      <td>329900</td>\n",
       "    </tr>\n",
       "    <tr>\n",
       "      <th>42</th>\n",
       "      <td>2567</td>\n",
       "      <td>4</td>\n",
       "      <td>314000</td>\n",
       "    </tr>\n",
       "    <tr>\n",
       "      <th>43</th>\n",
       "      <td>1200</td>\n",
       "      <td>3</td>\n",
       "      <td>299000</td>\n",
       "    </tr>\n",
       "    <tr>\n",
       "      <th>44</th>\n",
       "      <td>852</td>\n",
       "      <td>2</td>\n",
       "      <td>179900</td>\n",
       "    </tr>\n",
       "    <tr>\n",
       "      <th>45</th>\n",
       "      <td>1852</td>\n",
       "      <td>4</td>\n",
       "      <td>299900</td>\n",
       "    </tr>\n",
       "    <tr>\n",
       "      <th>46</th>\n",
       "      <td>1203</td>\n",
       "      <td>3</td>\n",
       "      <td>239500</td>\n",
       "    </tr>\n",
       "  </tbody>\n",
       "</table>\n",
       "</div>"
      ],
      "text/plain": [
       "    Area  Recamaras  Precio\n",
       "0   2104          3  399900\n",
       "1   1600          3  329900\n",
       "2   2400          3  369000\n",
       "3   1416          2  232000\n",
       "4   3000          4  539900\n",
       "5   1985          4  299900\n",
       "6   1534          3  314900\n",
       "7   1427          3  198999\n",
       "8   1380          3  212000\n",
       "9   1494          3  242500\n",
       "10  1940          4  239999\n",
       "11  2000          3  347000\n",
       "12  1890          3  329999\n",
       "13  4478          5  699900\n",
       "14  1268          3  259900\n",
       "15  2300          4  449900\n",
       "16  1320          2  299900\n",
       "17  1236          3  199900\n",
       "18  2609          4  499998\n",
       "19  3031          4  599000\n",
       "20  1767          3  252900\n",
       "21  1888          2  255000\n",
       "22  1604          3  242900\n",
       "23  1962          4  259900\n",
       "24  3890          3  573900\n",
       "25  1100          3  249900\n",
       "26  1458          3  464500\n",
       "27  2526          3  469000\n",
       "28  2200          3  475000\n",
       "29  2637          3  299900\n",
       "30  1839          2  349900\n",
       "31  1000          1  169900\n",
       "32  2040          4  314900\n",
       "33  3137          3  579900\n",
       "34  1811          4  285900\n",
       "35  1437          3  249900\n",
       "36  1239          3  229900\n",
       "37  2132          4  345000\n",
       "38  4215          4  549000\n",
       "39  2162          4  287000\n",
       "40  1664          2  368500\n",
       "41  2238          3  329900\n",
       "42  2567          4  314000\n",
       "43  1200          3  299000\n",
       "44   852          2  179900\n",
       "45  1852          4  299900\n",
       "46  1203          3  239500"
      ]
     },
     "execution_count": 11,
     "metadata": {},
     "output_type": "execute_result"
    }
   ],
   "source": [
    "# Cargamos los datos en un DataFrame \n",
    "df2 = pd.read_csv(\"https://raw.githubusercontent.com/Misael-Alvarez/EC-Tarea1/main/ex1data2.csv\")\n",
    "X2 = df2[\"Area\"]\n",
    "Y2 = df2[\"Recamaras\"]\n",
    "Z2 = df2[\"Precio\"]\n",
    "df2"
   ]
  },
  {
   "cell_type": "code",
   "execution_count": 12,
   "id": "5bda02ee",
   "metadata": {},
   "outputs": [],
   "source": [
    "# Convertimos nuestros datos del dataFrame a arrays en numpy para mejor manipulacion\n",
    "n = X2.shape[0]\n",
    "v = np.zeros((n,2)) # Agrpamos los datos de area y recamaras pra despues usar featureNormalize mas eficiente\n",
    "v2 = np.zeros((n,1)) # Dejamos el precio en otro array aparte\n",
    "for i in range(n):\n",
    "    v[i] = X2[i],Y2[i]\n",
    "    v2[i] = Z2[i]\n",
    "\n",
    "    \n",
    "# Definimos nuestra función featureNormalize\n",
    "def featureNormalize(v):\n",
    "    v_norm = np.array(v)\n",
    "    mu = np.mean(v, axis = 0) # axis=0 nos da el valor pedido de cada columna\n",
    "    sigma = np.std(v, axis = 0) \n",
    "    v_norm = (v_norm - np.tile(mu, (v.shape[0],1)))/np.tile(sigma, (v.shape[0],1))\n",
    "    return v_norm, mu, sigma\n",
    "\n",
    "\n",
    "# Definimos nuestra función de costo\n",
    "def computeCostMulti(X, Y, theta):\n",
    "    m = Y.shape[0]\n",
    "    J = np.sum((Y - np.dot(X, theta))**2) / (2 * m)\n",
    "    return J\n",
    "\n",
    "\n",
    "# Implementamos el descenso del gradiente\n",
    "def gradientDescentMulti(X, Y, theta, alpha, iteraciones):\n",
    "    m = Y.shape[0]\n",
    "    Jtot = []\n",
    "    \n",
    "    for i in range(iteraciones):\n",
    "        theta -= alpha / m * np.dot(X.T, (np.dot(X, theta) - Y))\n",
    "        Jtot.append(computeCostMulti(X, Y, theta))\n",
    "    return theta, Jtot\n",
    "\n",
    "\n",
    "# Ecuación Normal\n",
    "# theta = (X'X)^(-1)X'y\n",
    "def normalEqn(X, Y):\n",
    "    from numpy.linalg import inv\n",
    "    return np.dot(np.dot(inv(np.dot(X.T, X)), X.T), Y)"
   ]
  },
  {
   "cell_type": "code",
   "execution_count": 13,
   "id": "0a2a0ba9",
   "metadata": {},
   "outputs": [],
   "source": [
    "# Aplicamos la funcion featureNormalize\n",
    "x, mu, sigma = featureNormalize(v)\n",
    "x = np.column_stack((np.ones((x.shape[0],1)), x))"
   ]
  },
  {
   "cell_type": "code",
   "execution_count": 14,
   "id": "5767aac7",
   "metadata": {},
   "outputs": [],
   "source": [
    "# Definimos funciones para diferentes alpha\n",
    "def regresionMulti(alpha, iteraciones):\n",
    "    theta = np.zeros((x.shape[1],1))\n",
    "    theta, Jtot = gradientDescentMulti(x, v2, theta, alpha, iteraciones)\n",
    "    # Graficamos\n",
    "    plt.plot(range(len(Jtot)), Jtot, color=\"red\")\n",
    "    plt.title(\"alpha = {} \".format(alpha))\n",
    "    plt.xlabel(\"x\")\n",
    "    plt.ylabel(\"y\")\n",
    "    plt.show()\n",
    "    return "
   ]
  },
  {
   "cell_type": "code",
   "execution_count": 15,
   "id": "9146cdb3",
   "metadata": {},
   "outputs": [
    {
     "data": {
      "image/png": "[encoded data removed]",
      "text/plain": [
       "<Figure size 432x288 with 1 Axes>"
      ]
     },
     "metadata": {},
     "output_type": "display_data"
    }
   ],
   "source": [
    "regresionMulti(0.9,50)"
   ]
  },
  {
   "cell_type": "code",
   "execution_count": 16,
   "id": "3ffd05e9",
   "metadata": {},
   "outputs": [
    {
     "data": {
      "image/png": "[encoded data removed]",
      "text/plain": [
       "<Figure size 432x288 with 1 Axes>"
      ]
     },
     "metadata": {},
     "output_type": "display_data"
    }
   ],
   "source": [
    "regresionMulti(0.3,50)"
   ]
  },
  {
   "cell_type": "code",
   "execution_count": 17,
   "id": "8fa29716",
   "metadata": {},
   "outputs": [
    {
     "data": {
      "image/png": "[encoded data removed]",
      "text/plain": [
       "<Figure size 432x288 with 1 Axes>"
      ]
     },
     "metadata": {},
     "output_type": "display_data"
    }
   ],
   "source": [
    "regresionMulti(0.1,50)"
   ]
  },
  {
   "cell_type": "code",
   "execution_count": 18,
   "id": "379c0b46",
   "metadata": {},
   "outputs": [
    {
     "data": {
      "image/png": "[encoded data removed]",
      "text/plain": [
       "<Figure size 432x288 with 1 Axes>"
      ]
     },
     "metadata": {},
     "output_type": "display_data"
    }
   ],
   "source": [
    "regresionMulti(0.03,50)"
   ]
  },
  {
   "cell_type": "code",
   "execution_count": 19,
   "id": "4d78bbf2",
   "metadata": {},
   "outputs": [
    {
     "data": {
      "image/png": "[encoded data removed]",
      "text/plain": [
       "<Figure size 432x288 with 1 Axes>"
      ]
     },
     "metadata": {},
     "output_type": "display_data"
    }
   ],
   "source": [
    "regresionMulti(0.01,50)"
   ]
  },
  {
   "cell_type": "code",
   "execution_count": 20,
   "id": "783e8f7a",
   "metadata": {},
   "outputs": [],
   "source": [
    "# Pronostico: Use los valores calculados de theta para predecir el valor de una casa de 1650 pies-cuadrados y 3 recámaras.\n",
    "def Pronostico(X,Y):\n",
    "    X = np.column_stack((np.ones((X.shape[0],1)),X))\n",
    "    theta1 = normalEqn(X,Y)\n",
    "    precio = np.dot(np.column_stack((np.array([[1]]), np.array([[1650, 3]]))), theta1)\n",
    "    return print(\"El valor predecido de una casa de 1650 pies cuadrados y 3 recamaras es de: ${}\".format(precio[0][0]))"
   ]
  },
  {
   "cell_type": "code",
   "execution_count": 21,
   "id": "37a58988",
   "metadata": {},
   "outputs": [
    {
     "name": "stdout",
     "output_type": "stream",
     "text": [
      "El valor predecido de una casa de 1650 pies cuadrados y 3 recamaras es de: $293081.46433489496\n"
     ]
    }
   ],
   "source": [
    "Pronostico(v,v2)"
   ]
  },
  {
   "cell_type": "code",
   "execution_count": null,
   "id": "12e25386",
   "metadata": {},
   "outputs": [],
   "source": []
  }
 ],
 "metadata": {
  "kernelspec": {
   "display_name": "Python 3 (ipykernel)",
   "language": "python",
   "name": "python3"
  },
  "language_info": {
   "codemirror_mode": {
    "name": "ipython",
    "version": 3
   },
   "file_extension": ".py",
   "mimetype": "text/x-python",
   "name": "python",
   "nbconvert_exporter": "python",
   "pygments_lexer": "ipython3",
   "version": "3.9.7"
  }
 },
 "nbformat": 4,
 "nbformat_minor": 5
}
